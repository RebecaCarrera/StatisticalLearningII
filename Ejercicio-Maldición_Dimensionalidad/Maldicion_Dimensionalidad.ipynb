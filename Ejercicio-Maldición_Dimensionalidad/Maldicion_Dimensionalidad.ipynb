{
 "cells": [
  {
   "cell_type": "markdown",
   "metadata": {},
   "source": [
    "###  Autor: Lilian Rebeca Carrera Lemus \n",
    "No. Carnet: 20008077  \n",
    "\n",
    "\n",
    "# Ejercicio: Maldición de Dimensionalidad\n"
   ]
  },
  {
   "cell_type": "markdown",
   "metadata": {},
   "source": [
    "**Maldición de Dimensionalidad**  \n",
    "En Machine Learning, el número de dimensiones se puede equiparar al número de variables o características (features) que estemos utilizando, por lo cual, a medida que agregamos más dimensiones, también aumentamos la capacidad de procesamiento que necesitamos para analizar los datos, y también aumentamos la cantidad de datos de entrenamiento necesarios para hacer modelos significativos.\n",
    "\n",
    "Así mismo, al momento de que tenemos un aumento de features, la cantidad de parámetros puede incrementar muy rápidamente, hasta al punto en el que se vuelva poco práctico entrenar estos modelos. Al aumentar la cantidad de parámtros entrenables incrementa la posibilidad de que nuestro modelo sufra de overfitting, o sobreajuste, y este tenga un error de generalización mayor de lo deseado. Para combatir esto generalmente se suele recurrir a técnicas de regularización, o a tener que aumentar mucho la cantidad de datos en nuestro set de entrenamiento.\n",
    "\n",
    "A continuación se muestra cómo al utilizar un modelo de regresión polinomial que toma en cuenta los términos de interacción entre variables, al incrementar el grado del polinomio con el que se desea modelar los datos la cantidad de parámetros incrementa rápidamente."
   ]
  },
  {
   "cell_type": "code",
   "execution_count": 1,
   "metadata": {},
   "outputs": [],
   "source": [
    "#Librerías a utilizar\n",
    "import numpy as np\n",
    "import matplotlib.pyplot as plt\n",
    "import seaborn as sns\n",
    "from sklearn.preprocessing import PolynomialFeatures #Para generar features polinomiales"
   ]
  },
  {
   "cell_type": "code",
   "execution_count": 2,
   "metadata": {},
   "outputs": [
    {
     "data": {
      "text/html": [
       "<div>\n",
       "<style scoped>\n",
       "    .dataframe tbody tr th:only-of-type {\n",
       "        vertical-align: middle;\n",
       "    }\n",
       "\n",
       "    .dataframe tbody tr th {\n",
       "        vertical-align: top;\n",
       "    }\n",
       "\n",
       "    .dataframe thead th {\n",
       "        text-align: right;\n",
       "    }\n",
       "</style>\n",
       "<table border=\"1\" class=\"dataframe\">\n",
       "  <thead>\n",
       "    <tr style=\"text-align: right;\">\n",
       "      <th></th>\n",
       "      <th>sepal_length</th>\n",
       "      <th>sepal_width</th>\n",
       "      <th>petal_length</th>\n",
       "      <th>petal_width</th>\n",
       "    </tr>\n",
       "  </thead>\n",
       "  <tbody>\n",
       "    <tr>\n",
       "      <th>0</th>\n",
       "      <td>5.1</td>\n",
       "      <td>3.5</td>\n",
       "      <td>1.4</td>\n",
       "      <td>0.2</td>\n",
       "    </tr>\n",
       "    <tr>\n",
       "      <th>1</th>\n",
       "      <td>4.9</td>\n",
       "      <td>3.0</td>\n",
       "      <td>1.4</td>\n",
       "      <td>0.2</td>\n",
       "    </tr>\n",
       "    <tr>\n",
       "      <th>2</th>\n",
       "      <td>4.7</td>\n",
       "      <td>3.2</td>\n",
       "      <td>1.3</td>\n",
       "      <td>0.2</td>\n",
       "    </tr>\n",
       "    <tr>\n",
       "      <th>3</th>\n",
       "      <td>4.6</td>\n",
       "      <td>3.1</td>\n",
       "      <td>1.5</td>\n",
       "      <td>0.2</td>\n",
       "    </tr>\n",
       "    <tr>\n",
       "      <th>4</th>\n",
       "      <td>5.0</td>\n",
       "      <td>3.6</td>\n",
       "      <td>1.4</td>\n",
       "      <td>0.2</td>\n",
       "    </tr>\n",
       "  </tbody>\n",
       "</table>\n",
       "</div>"
      ],
      "text/plain": [
       "   sepal_length  sepal_width  petal_length  petal_width\n",
       "0           5.1          3.5           1.4          0.2\n",
       "1           4.9          3.0           1.4          0.2\n",
       "2           4.7          3.2           1.3          0.2\n",
       "3           4.6          3.1           1.5          0.2\n",
       "4           5.0          3.6           1.4          0.2"
      ]
     },
     "execution_count": 2,
     "metadata": {},
     "output_type": "execute_result"
    }
   ],
   "source": [
    "#Para ejemplificar la maldición de dimensionalidad, utlizaremos el dataset de iris\n",
    "iris = sns.load_dataset('iris')\n",
    "#Eliminamos la variable categoríca\n",
    "iris = iris.drop('species', axis = 1)\n",
    "iris.head()"
   ]
  },
  {
   "cell_type": "code",
   "execution_count": 3,
   "metadata": {},
   "outputs": [],
   "source": [
    "#Grado dos\n",
    "grado_2 = PolynomialFeatures(2)\n",
    "#Features polinomiales de grado 2\n",
    "grado_2_features = grado_2.fit_transform(iris)"
   ]
  },
  {
   "cell_type": "markdown",
   "metadata": {},
   "source": [
    "Como se puede observar a continuación, al utilizar un polinomio grado 2 el número de features aumenta de 4 a 15:"
   ]
  },
  {
   "cell_type": "code",
   "execution_count": 4,
   "metadata": {},
   "outputs": [
    {
     "data": {
      "text/plain": [
       "15"
      ]
     },
     "execution_count": 4,
     "metadata": {},
     "output_type": "execute_result"
    }
   ],
   "source": [
    "grado_2_features.shape[1]"
   ]
  },
  {
   "cell_type": "markdown",
   "metadata": {},
   "source": [
    "**Generación de Features Polinomiales**"
   ]
  },
  {
   "cell_type": "markdown",
   "metadata": {},
   "source": [
    "En general, vamos a generar features polinomiales desde polinimios de grado 2 hasta 50 para el dataset de iris y contabilizar la cantidad de features para cada uno."
   ]
  },
  {
   "cell_type": "code",
   "execution_count": 5,
   "metadata": {},
   "outputs": [
    {
     "name": "stdout",
     "output_type": "stream",
     "text": [
      "La cantidad de features para el polinomio grado 2 es:15\n",
      "La cantidad de features para el polinomio grado 3 es:35\n",
      "La cantidad de features para el polinomio grado 4 es:70\n",
      "La cantidad de features para el polinomio grado 5 es:126\n",
      "La cantidad de features para el polinomio grado 6 es:210\n",
      "La cantidad de features para el polinomio grado 7 es:330\n",
      "La cantidad de features para el polinomio grado 8 es:495\n",
      "La cantidad de features para el polinomio grado 9 es:715\n",
      "La cantidad de features para el polinomio grado 10 es:1001\n",
      "La cantidad de features para el polinomio grado 11 es:1365\n",
      "La cantidad de features para el polinomio grado 12 es:1820\n",
      "La cantidad de features para el polinomio grado 13 es:2380\n",
      "La cantidad de features para el polinomio grado 14 es:3060\n",
      "La cantidad de features para el polinomio grado 15 es:3876\n",
      "La cantidad de features para el polinomio grado 16 es:4845\n",
      "La cantidad de features para el polinomio grado 17 es:5985\n",
      "La cantidad de features para el polinomio grado 18 es:7315\n",
      "La cantidad de features para el polinomio grado 19 es:8855\n",
      "La cantidad de features para el polinomio grado 20 es:10626\n",
      "La cantidad de features para el polinomio grado 21 es:12650\n",
      "La cantidad de features para el polinomio grado 22 es:14950\n",
      "La cantidad de features para el polinomio grado 23 es:17550\n",
      "La cantidad de features para el polinomio grado 24 es:20475\n",
      "La cantidad de features para el polinomio grado 25 es:23751\n",
      "La cantidad de features para el polinomio grado 26 es:27405\n",
      "La cantidad de features para el polinomio grado 27 es:31465\n",
      "La cantidad de features para el polinomio grado 28 es:35960\n",
      "La cantidad de features para el polinomio grado 29 es:40920\n",
      "La cantidad de features para el polinomio grado 30 es:46376\n",
      "La cantidad de features para el polinomio grado 31 es:52360\n",
      "La cantidad de features para el polinomio grado 32 es:58905\n",
      "La cantidad de features para el polinomio grado 33 es:66045\n",
      "La cantidad de features para el polinomio grado 34 es:73815\n",
      "La cantidad de features para el polinomio grado 35 es:82251\n",
      "La cantidad de features para el polinomio grado 36 es:91390\n",
      "La cantidad de features para el polinomio grado 37 es:101270\n",
      "La cantidad de features para el polinomio grado 38 es:111930\n",
      "La cantidad de features para el polinomio grado 39 es:123410\n",
      "La cantidad de features para el polinomio grado 40 es:135751\n",
      "La cantidad de features para el polinomio grado 41 es:148995\n",
      "La cantidad de features para el polinomio grado 42 es:163185\n",
      "La cantidad de features para el polinomio grado 43 es:178365\n",
      "La cantidad de features para el polinomio grado 44 es:194580\n",
      "La cantidad de features para el polinomio grado 45 es:211876\n",
      "La cantidad de features para el polinomio grado 46 es:230300\n",
      "La cantidad de features para el polinomio grado 47 es:249900\n",
      "La cantidad de features para el polinomio grado 48 es:270725\n",
      "La cantidad de features para el polinomio grado 49 es:292825\n"
     ]
    }
   ],
   "source": [
    "cant_features = list()\n",
    "for i in range(2,50):\n",
    "    grado_i = PolynomialFeatures(i)\n",
    "    grado_i_features = grado_i.fit_transform(iris)\n",
    "    print(\"La cantidad de features para el polinomio grado \" + str(i) + \" es:\" + str(grado_i_features.shape[1]))\n",
    "    cant_features.append(grado_i_features.shape[1])"
   ]
  },
  {
   "cell_type": "markdown",
   "metadata": {},
   "source": [
    "**Graficamos los resultados obtenidos**"
   ]
  },
  {
   "cell_type": "code",
   "execution_count": 6,
   "metadata": {},
   "outputs": [
    {
     "data": {
      "image/png": "[encoded data removed]",
      "text/plain": [
       "<Figure size 432x288 with 1 Axes>"
      ]
     },
     "metadata": {
      "needs_background": "light"
     },
     "output_type": "display_data"
    }
   ],
   "source": [
    "plt.plot(np.linspace(2,49,48), cant_features)\n",
    "plt.title('Número de features dependiendo de grado polinomial')\n",
    "plt.xlabel('Grado de polinomio')\n",
    "plt.ylabel('Número de features')\n",
    "plt.show()"
   ]
  },
  {
   "cell_type": "markdown",
   "metadata": {},
   "source": [
    "**Conclusión**"
   ]
  },
  {
   "cell_type": "markdown",
   "metadata": {},
   "source": [
    "Como se puede obsevar en las pruebas realizadas, el número de features aumenta exponencialmente conforme se aumenta el grado polinomial del modelo. A esto es lo que se le conoce como la maldición de la dimensionalidad, ya que al aumentar el número de dimensiones para elaborar un modelo, podemos llegar a tener una gran cantidad de features e información esparcida."
   ]
  },
  {
   "cell_type": "code",
   "execution_count": null,
   "metadata": {},
   "outputs": [],
   "source": []
  }
 ],
 "metadata": {
  "kernelspec": {
   "display_name": "Python 3",
   "language": "python",
   "name": "python3"
  },
  "language_info": {
   "codemirror_mode": {
    "name": "ipython",
    "version": 3
   },
   "file_extension": ".py",
   "mimetype": "text/x-python",
   "name": "python",
   "nbconvert_exporter": "python",
   "pygments_lexer": "ipython3",
   "version": "3.7.7"
  }
 },
 "nbformat": 4,
 "nbformat_minor": 4
}
