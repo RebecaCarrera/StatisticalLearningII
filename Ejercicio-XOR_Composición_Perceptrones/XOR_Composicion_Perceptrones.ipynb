{
 "cells": [
  {
   "cell_type": "markdown",
   "metadata": {},
   "source": [
    "###  Autor: Lilian Rebeca Carrera Lemus \n",
    "No. Carnet: 20008077  \n",
    "\n",
    "\n",
    "# Ejercicio: XOR con composición y perceptrones\n",
    "\n",
    "**Parte 1:** ejercicio de composición de funciones para XOR  \n",
    "**Parte 2:** Usando activación \"step\" y el algoritmo de entrenamiento de perceptrones visto en clase, entrenar:\n",
    "* 1 perceptrón para la operación \"and\"\n",
    "* 1 perceptrón para la operación \"or\"\n",
    "\n",
    "  Remplazar las funciones de la parte 1 con los perceptrones entrenados. "
   ]
  },
  {
   "cell_type": "code",
   "execution_count": 10,
   "metadata": {},
   "outputs": [],
   "source": [
    "#importamos librerías\n",
    "import numpy as np"
   ]
  },
  {
   "cell_type": "markdown",
   "metadata": {},
   "source": [
    "### Parte 1 - Composición de Funciones para XOR  \n",
    "Se utilizarán varios perceptrones entrenados para realizar las operaciones lógicas básicas de AND, OR, NOT, para generar un perceptrón que genere el operador lógico XOR. Esto se realiza a través de la composición de funciones."
   ]
  },
  {
   "cell_type": "code",
   "execution_count": 11,
   "metadata": {},
   "outputs": [],
   "source": [
    "#Definimos la función para el operador NOT\n",
    "def funcion_not(x1):\n",
    "    parametros = [ -1 , 1]\n",
    "    resultado = int(x1*parametros[0] + parametros[1]) \n",
    "    \n",
    "    return resultado"
   ]
  },
  {
   "cell_type": "code",
   "execution_count": 12,
   "metadata": {},
   "outputs": [
    {
     "data": {
      "text/plain": [
       "1"
      ]
     },
     "execution_count": 12,
     "metadata": {},
     "output_type": "execute_result"
    }
   ],
   "source": [
    "#Probamos la funcion\n",
    "funcion_not(0)"
   ]
  },
  {
   "cell_type": "code",
   "execution_count": 13,
   "metadata": {},
   "outputs": [],
   "source": [
    "#Definimos la función para el operador OR\n",
    "def funcion_or(x1, x2):\n",
    "    parametros = [1, 1, 0]\n",
    "    resultado = int(x1*parametros[0] + x2*parametros[1] + parametros[2] > 0)\n",
    "    \n",
    "    return resultado"
   ]
  },
  {
   "cell_type": "code",
   "execution_count": 14,
   "metadata": {},
   "outputs": [
    {
     "name": "stdout",
     "output_type": "stream",
     "text": [
      "1\n",
      "0\n"
     ]
    }
   ],
   "source": [
    "#Probamos la funcion\n",
    "print(funcion_or(0,1))\n",
    "print(funcion_or(0,0))"
   ]
  },
  {
   "cell_type": "code",
   "execution_count": 15,
   "metadata": {},
   "outputs": [],
   "source": [
    "#Definimos la función para el operador AND\n",
    "def funcion_and(x1,x2):\n",
    "    parametros = [1,1,-1] \n",
    "    resultado = int(x1*parametros[0] + x2*parametros[1] + parametros[2] > 0)\n",
    "    \n",
    "    return resultado"
   ]
  },
  {
   "cell_type": "code",
   "execution_count": 16,
   "metadata": {},
   "outputs": [
    {
     "name": "stdout",
     "output_type": "stream",
     "text": [
      "0\n",
      "1\n"
     ]
    }
   ],
   "source": [
    "#Probamos la funcion\n",
    "print(funcion_and(0,1))\n",
    "print(funcion_and(1,1))"
   ]
  },
  {
   "cell_type": "code",
   "execution_count": 17,
   "metadata": {},
   "outputs": [],
   "source": [
    "#Definimos la función para el operador XOR, la cual es una composicióin de las funciones definidas anteriormente\n",
    "def funcion_xor(x1,x2):\n",
    "\n",
    "    x1_temp = funcion_not(funcion_and(x1,x2))\n",
    "    x2_temp = funcion_or(x1,x2)\n",
    "    resultado = funcion_and(x1_temp, x2_temp)\n",
    "    \n",
    "    return resultado"
   ]
  },
  {
   "cell_type": "code",
   "execution_count": 18,
   "metadata": {},
   "outputs": [
    {
     "name": "stdout",
     "output_type": "stream",
     "text": [
      "0\n",
      "0\n",
      "1\n"
     ]
    }
   ],
   "source": [
    "#Probamos la funcion\n",
    "print(funcion_xor(1,1))\n",
    "print(funcion_xor(0,0))\n",
    "print(funcion_xor(0,1))"
   ]
  },
  {
   "cell_type": "markdown",
   "metadata": {},
   "source": [
    "### Parte 2 - Entrenamiento Perceptrones\n",
    "A continuación se muestra el entrenamiento de las funciones \"AND\" y \"OR\" con activación \"Step\"."
   ]
  },
  {
   "cell_type": "code",
   "execution_count": 20,
   "metadata": {},
   "outputs": [],
   "source": [
    "#Definimos los dataset para and y or \n",
    "dataset_and = np.array([[1,1,1],\n",
    "                        [0,0,0],\n",
    "                        [0,1,0],\n",
    "                        [1,0,0]])\n",
    "#or\n",
    "dataset_or = np.array([[1,1,1],\n",
    "                        [0,0,0],\n",
    "                        [0,1,1],\n",
    "                        [1,0,1]])"
   ]
  },
  {
   "cell_type": "code",
   "execution_count": 127,
   "metadata": {},
   "outputs": [],
   "source": [
    "#Definimos función de entranamiento usando el algoritmo visto en clase\n",
    "def entrenar_perceptronn(ds, lr):\n",
    "    #Separar los labels (y)\n",
    "    train = ds[:,0:2]\n",
    "    train_label = ds[:,2]\n",
    "    #inicializar pesos\n",
    "    w = np.random.normal(0, 0.1, 3)\n",
    "    #agregar bias\n",
    "    train = np.insert(train, 0, np.ones(len(train)), axis=1).astype(np.float32)\n",
    "    \n",
    "    #Obtener predicciones con activación step (valores >= 0)\n",
    "    t_resultado = np.dot(train,w) >= 0\n",
    "    t_resultado = t_resultado.astype(int)\n",
    "                      \n",
    "    #Comparamos los resultados con los labels reales\n",
    "    comparados = train_label == t_resultado              \n",
    "    \n",
    "    #Entrenamiento\n",
    "    epoch = 0\n",
    "    while comparados.all() == False:\n",
    "        \n",
    "        for i in range(0,len(train_label)):\n",
    "            if train_label[i] == 1 and np.dot(train[i],w) < 0:\n",
    "                w = w + (lr * train[i])          \n",
    "            elif train_label[i] == 0 and np.dot(train[i],w) >= 0:\n",
    "                w = w - (lr * train[i])\n",
    "               \n",
    "        #Armar nuevamente la tabla de verdad con los pesos obtenidos\n",
    "        temp_res = np.dot(train,w) >= 0\n",
    "        temp_res = temp_res.astype(int)\n",
    "        comparados = train_label == temp_res\n",
    "        epoch += 1\n",
    "        \n",
    "        print('iteración: ' + str(epoch))\n",
    "        print('pesos: ' + str(w))\n",
    "        print('--------------------------------------------------------------')\n",
    "    \n",
    "    print('Pesos finales:' + str(w))\n",
    "    return w"
   ]
  },
  {
   "cell_type": "markdown",
   "metadata": {},
   "source": [
    "**Entrenamiento para AND**"
   ]
  },
  {
   "cell_type": "code",
   "execution_count": 128,
   "metadata": {},
   "outputs": [
    {
     "name": "stdout",
     "output_type": "stream",
     "text": [
      "iteración: 1\n",
      "pesos: [-0.00605519 -0.03987004  0.00970742]\n",
      "--------------------------------------------------------------\n",
      "iteración: 2\n",
      "pesos: [-0.01605519 -0.02987004  0.00970742]\n",
      "--------------------------------------------------------------\n",
      "iteración: 3\n",
      "pesos: [-0.01605519 -0.01987004  0.00970742]\n",
      "--------------------------------------------------------------\n",
      "iteración: 4\n",
      "pesos: [-0.01605519 -0.00987004  0.00970742]\n",
      "--------------------------------------------------------------\n",
      "iteración: 5\n",
      "pesos: [-0.01605519  0.00012996  0.00970742]\n",
      "--------------------------------------------------------------\n",
      "iteración: 6\n",
      "pesos: [-0.01605519  0.01012996  0.00970742]\n",
      "--------------------------------------------------------------\n",
      "Pesos finales:[-0.01605519  0.01012996  0.00970742]\n"
     ]
    }
   ],
   "source": [
    "pesos_and = entrenar_perceptronn(dataset_and,0.01)"
   ]
  },
  {
   "cell_type": "markdown",
   "metadata": {},
   "source": [
    "**Entrenamiento para OR**"
   ]
  },
  {
   "cell_type": "code",
   "execution_count": 129,
   "metadata": {},
   "outputs": [
    {
     "name": "stdout",
     "output_type": "stream",
     "text": [
      "iteración: 1\n",
      "pesos: [ 0.01436287 -0.05102598  0.00386126]\n",
      "--------------------------------------------------------------\n",
      "iteración: 2\n",
      "pesos: [ 0.02436287 -0.03102598  0.01386126]\n",
      "--------------------------------------------------------------\n",
      "iteración: 3\n",
      "pesos: [ 0.02436287 -0.02102598  0.01386126]\n",
      "--------------------------------------------------------------\n",
      "iteración: 4\n",
      "pesos: [ 0.02436287 -0.01102598  0.01386126]\n",
      "--------------------------------------------------------------\n",
      "iteración: 5\n",
      "pesos: [ 0.01436287 -0.01102598  0.01386126]\n",
      "--------------------------------------------------------------\n",
      "iteración: 6\n",
      "pesos: [ 0.01436287 -0.00102598  0.01386126]\n",
      "--------------------------------------------------------------\n",
      "iteración: 7\n",
      "pesos: [ 0.00436287 -0.00102598  0.01386126]\n",
      "--------------------------------------------------------------\n",
      "iteración: 8\n",
      "pesos: [0.00436287 0.00897402 0.01386126]\n",
      "--------------------------------------------------------------\n",
      "iteración: 9\n",
      "pesos: [-0.00563713  0.00897402  0.01386126]\n",
      "--------------------------------------------------------------\n",
      "Pesos finales:[-0.00563713  0.00897402  0.01386126]\n"
     ]
    }
   ],
   "source": [
    "pesos_or = entrenar_perceptronn(dataset_or,0.01)"
   ]
  },
  {
   "cell_type": "markdown",
   "metadata": {},
   "source": [
    "**emplazar las funciones de la parte 1 con los perceptrones entrenados**"
   ]
  },
  {
   "cell_type": "code",
   "execution_count": 131,
   "metadata": {},
   "outputs": [],
   "source": [
    "#Reemplzamos para and\n",
    "def funcion_and_ent(x1,x2):\n",
    "    parametros = pesos_and #Resultado del entrenamiento\n",
    "    resultado = int(x1*parametros[1] + x2*parametros[2] + parametros[0] >= 0)\n",
    "    \n",
    "    return resultado"
   ]
  },
  {
   "cell_type": "code",
   "execution_count": 134,
   "metadata": {},
   "outputs": [],
   "source": [
    "#Reemplzamos para OR\n",
    "def funcion_or_ent(x1,x2):\n",
    "    parametros = pesos_or\n",
    "    resultado = int(x1*parametros[1] + x2*parametros[2] + parametros[0] >= 0)\n",
    "    \n",
    "    return resultado"
   ]
  },
  {
   "cell_type": "code",
   "execution_count": 136,
   "metadata": {},
   "outputs": [],
   "source": [
    "#Nueva función XOR usando los parámetros resultado del entrenamiento\n",
    "def funcion_xor_ent(x1,x2):\n",
    "\n",
    "    x1_temp = funcion_not(funcion_and_ent(x1,x2))\n",
    "    x2_temp = funcion_or_ent(x1,x2)\n",
    "    resultado = funcion_and_ent(x1_temp, x2_temp)\n",
    "    \n",
    "    return resultado"
   ]
  },
  {
   "cell_type": "code",
   "execution_count": 137,
   "metadata": {},
   "outputs": [
    {
     "name": "stdout",
     "output_type": "stream",
     "text": [
      "0\n",
      "0\n",
      "1\n",
      "1\n"
     ]
    }
   ],
   "source": [
    "#Probamos las nuevas funciones\n",
    "#Probamos la funcion\n",
    "print(funcion_xor_ent(1,1))\n",
    "print(funcion_xor_ent(0,0))\n",
    "print(funcion_xor_ent(0,1))\n",
    "print(funcion_xor_ent(1,0))"
   ]
  },
  {
   "cell_type": "code",
   "execution_count": null,
   "metadata": {},
   "outputs": [],
   "source": []
  },
  {
   "cell_type": "code",
   "execution_count": null,
   "metadata": {},
   "outputs": [],
   "source": []
  }
 ],
 "metadata": {
  "kernelspec": {
   "display_name": "Python 3",
   "language": "python",
   "name": "python3"
  },
  "language_info": {
   "codemirror_mode": {
    "name": "ipython",
    "version": 3
   },
   "file_extension": ".py",
   "mimetype": "text/x-python",
   "name": "python",
   "nbconvert_exporter": "python",
   "pygments_lexer": "ipython3",
   "version": "3.7.7"
  }
 },
 "nbformat": 4,
 "nbformat_minor": 4
}
