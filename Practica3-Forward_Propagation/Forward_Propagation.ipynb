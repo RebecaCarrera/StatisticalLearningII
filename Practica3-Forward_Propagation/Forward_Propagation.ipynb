{
 "cells": [
  {
   "cell_type": "markdown",
   "metadata": {},
   "source": [
    "###  Autor: Lilian Rebeca Carrera Lemus \n",
    "No. Carnet: 20008077  \n",
    "\n",
    "\n",
    "# Práctica No.3: Forward Propagation y Análisis de Representaciones Intermedias  \n",
    "\n",
    "\n",
    "\n",
    "### Parte 1:\n",
    "* Utilizando Numpy definir una función para calcular la salida de los siguientes modelos  \n",
    "* Dado que cada sub-modelo \"detecta\" una característica intermedia h(variable latente) determinar para cada entrada la característica intermedia con mayor presencia. "
   ]
  },
  {
   "cell_type": "code",
   "execution_count": 2,
   "metadata": {},
   "outputs": [],
   "source": [
    "#Importamos librerías a usar\n",
    "import numpy as np\n",
    "import matplotlib.pyplot as plt\n",
    "import seaborn as sns"
   ]
  },
  {
   "cell_type": "markdown",
   "metadata": {},
   "source": [
    "**Modelo1:**\n",
    "<img src=\"Modelo1.jpg\">"
   ]
  },
  {
   "cell_type": "code",
   "execution_count": 4,
   "metadata": {},
   "outputs": [],
   "source": [
    "# Definir la función de activación para las neuronas, en este caso sigmoid\n",
    "def sigmoid(x):\n",
    "    return 1/(1+np.exp(-x))"
   ]
  },
  {
   "cell_type": "code",
   "execution_count": 12,
   "metadata": {},
   "outputs": [],
   "source": [
    "#Definimos una clase para el modelo 1, con bias\n",
    "class RedNeuronal_Modelo1:\n",
    "    def __init__(self, wc1, wc2):\n",
    "        self.wc1 = wc1\n",
    "        self.wc2 = wc2\n",
    "    \n",
    "    def forward_propagation(self, x):\n",
    "        x = np.append(x, 1)\n",
    "        act_l1 = sigmoid(np.matmul(x, self.wc1))\n",
    "        l1_2 = np.append(act_l1, 1) #bias\n",
    "        salida = sigmoid(np.matmul(l1_2, self.wc2))\n",
    "        \n",
    "        return salida, act_l1"
   ]
  },
  {
   "cell_type": "code",
   "execution_count": 14,
   "metadata": {},
   "outputs": [],
   "source": [
    "#Pruebas para el modelo1\n",
    "wc_1 = np.array([[5,7],[-2,-3],[-8,1]])\n",
    "wc_2 = np.array([7,5,-6])\n",
    "red_m1 = RedNeuronal_Modelo1(wc_1, wc_2)"
   ]
  },
  {
   "cell_type": "code",
   "execution_count": 17,
   "metadata": {},
   "outputs": [
    {
     "name": "stdout",
     "output_type": "stream",
     "text": [
      "La salida del modelo1 es:  0.2715813356119339\n",
      "Los valores de activación de la capa oculta son :  [0.00669285 0.99330715]\n"
     ]
    }
   ],
   "source": [
    "#Forward propagation para modelo 1\n",
    "y_aprox_m1, capa_ocul_1 = red_m1.forward_propagation(x = np.array([1,1]))\n",
    "\n",
    "print(\"La salida del modelo1 es: \", y_aprox_m1)\n",
    "print(\"Los valores de activación de la capa oculta son : \", capa_ocul_1)"
   ]
  },
  {
   "cell_type": "markdown",
   "metadata": {},
   "source": [
    "**Conclusión Modelo1:** En este modelo, para las etradas x proporcionadas (1,1), la característica intermedia con mayor presencia esta dada por la neurona h2, de acuerdo a su valor de activación (0.99330715), ya que esta es la neura con mayor activación"
   ]
  },
  {
   "cell_type": "markdown",
   "metadata": {},
   "source": [
    "**Modelo2:**\n",
    "<img src=\"Modelo2.jpg\">"
   ]
  },
  {
   "cell_type": "code",
   "execution_count": 30,
   "metadata": {},
   "outputs": [],
   "source": [
    "#Definimos una clase para el modelo 2, en este caso sin bias\n",
    "class RedNeuronal_Modelo2:\n",
    "    def __init__(self, wc1, wc2):\n",
    "        self.wc1 = wc1\n",
    "        self.wc2 = wc2\n",
    "        \n",
    "    def forward_propagation(self, x):\n",
    "        act_l1 = sigmoid(np.matmul(x, self.wc1))\n",
    "        salida = sigmoid(np.matmul(act_l1, self.wc2))\n",
    "        \n",
    "        return salida, act_l1"
   ]
  },
  {
   "cell_type": "code",
   "execution_count": 31,
   "metadata": {},
   "outputs": [],
   "source": [
    "#Pruebas para el modelo2\n",
    "wc1 = np.array([[0.8, 0.4, 0.3],[0.2, 0.9, 0.5]]) \n",
    "wc2 = np.array([0.3, 0.5, 0.9])\n",
    "red_m2 = RedNeuronal_Modelo2(wc1, wc2)"
   ]
  },
  {
   "cell_type": "code",
   "execution_count": 33,
   "metadata": {},
   "outputs": [
    {
     "name": "stdout",
     "output_type": "stream",
     "text": [
      "La salida del modelo1 es:  0.7743802720529458\n",
      "Los valores de activación de la capa oculta son :  [0.73105858 0.78583498 0.68997448]\n"
     ]
    }
   ],
   "source": [
    "#Forward propagation para modelo 1\n",
    "y_aprox_m2, capa_ocul_2 =red_m2.forward_propagation(x = np.array([1,1]))\n",
    "    \n",
    "print(\"La salida del modelo1 es: \", y_aprox_m2)\n",
    "print(\"Los valores de activación de la capa oculta son : \", capa_ocul_2)"
   ]
  },
  {
   "cell_type": "markdown",
   "metadata": {},
   "source": [
    "**Conclusión Modelo2:** En este modelo, para las etradas x proporcionadas (1,1), la característica intermedia con mayor presencia esta dada por la neurona h2, de acuerdo a su valor de activación (0.78583498), ya que esta es la neura con mayor activación respecto de las otras neuronas"
   ]
  },
  {
   "cell_type": "markdown",
   "metadata": {},
   "source": [
    "### Parte 2:\n",
    "* Calcular para cada posible punto en el dominio de xor la salida intermedia H = [h1, h2]\n",
    "* Mostrar la matriz resultante H en el notebook\n",
    "* Graficar cada punto de la representación intermedia (scatter), usar diferente color y o marker según su etiqueta. Puesto que tiene 2 posibles valores, la gráfica debe tener 2 colores o markers.\n",
    "* Analizar el resultado intermedio, concluir y comentar opiniones\n",
    "\n",
    "<img src=\"Modelo3.jpg\">"
   ]
  },
  {
   "cell_type": "code",
   "execution_count": 77,
   "metadata": {},
   "outputs": [],
   "source": [
    "#Definimos una clase para el modelo de XOR o modelo 3\n",
    "class RedNeuronal_XOR:\n",
    "    def __init__(self):\n",
    "        self.wc1 = np.array([[-10, 20, 20], [30, -20, -20]])\n",
    "        self.wc2 = np.array([-30, 20, 20])\n",
    "        \n",
    "    def forward_propagation(self, x):\n",
    "        x = np.append(np.ones((x.shape[0], 1)), x, axis = -1)\n",
    "        act_l1 = sigmoid(np.matmul(x, self.wc1.T))\n",
    "        l1_2 = np.append(np.ones((act_l1.shape[0], 1)), act_l1, axis = -1)\n",
    "        salida = sigmoid(np.matmul(l1_2, self.wc2.T))\n",
    "      \n",
    "        return salida, act_l1"
   ]
  },
  {
   "cell_type": "code",
   "execution_count": 76,
   "metadata": {},
   "outputs": [],
   "source": [
    "#Definimos la entrada para xor\n",
    "x_xor = np.array([[0,0], \n",
    "                  [0,1], \n",
    "                  [1,0], \n",
    "                  [1,1]])"
   ]
  },
  {
   "cell_type": "code",
   "execution_count": 81,
   "metadata": {},
   "outputs": [
    {
     "name": "stdout",
     "output_type": "stream",
     "text": [
      "La salida del XOR es:  [[0. 1. 1. 0.]]\n",
      "-------------------------------------------------------\n",
      "\n",
      "Los valores de activación de la capa oculta son (Matriz H): \n",
      " [[4.53978687e-05 1.00000000e+00]\n",
      " [9.99954602e-01 9.99954602e-01]\n",
      " [9.99954602e-01 9.99954602e-01]\n",
      " [1.00000000e+00 4.53978687e-05]]\n"
     ]
    }
   ],
   "source": [
    "#Pruebas de la clase\n",
    "modelo_xor = RedNeuronal_XOR()\n",
    "\n",
    "#Forward propagation\n",
    "y_aprox_xor, capa_ocul_xor= modelo_xor.forward_propagation(x_xor)\n",
    "    \n",
    "print(\"La salida del XOR es: \", np.round(y_aprox_xor).reshape(1,-1))\n",
    "print(\"-------------------------------------------------------\\n\")\n",
    "print(\"Los valores de activación de la capa oculta son (Matriz H): \\n\", capa_ocul_xor)"
   ]
  },
  {
   "cell_type": "markdown",
   "metadata": {},
   "source": [
    "**Gráfica Representación Intermedia:**  \n",
    "Graficar cada punto de la representación intermedia (scatter), usar diferente color y o marker según su etiqueta. Puesto que tiene 2 posibles valores, la gráfica debe tener 2 colores o markers."
   ]
  },
  {
   "cell_type": "code",
   "execution_count": 88,
   "metadata": {},
   "outputs": [
    {
     "data": {
      "text/plain": [
       "Text(0.5, 1.0, 'Entradas originales XOR')"
      ]
     },
     "execution_count": 88,
     "metadata": {},
     "output_type": "execute_result"
    },
    {
     "data": {
      "image/png": "[encoded data removed]",
      "text/plain": [
       "<Figure size 432x288 with 1 Axes>"
      ]
     },
     "metadata": {
      "needs_background": "light"
     },
     "output_type": "display_data"
    }
   ],
   "source": [
    "#Graficamos las entradas originales de XOR\n",
    "grafica_ri= sns.scatterplot(x_xor[:,0], \n",
    "                            x_xor[:,1], \n",
    "                            hue = np.array([0, 1, 1, 0]),\n",
    "                            s = 50)\n",
    "grafica_ri.set_title(\"Entradas originales XOR\")"
   ]
  },
  {
   "cell_type": "code",
   "execution_count": 89,
   "metadata": {},
   "outputs": [
    {
     "data": {
      "text/plain": [
       "Text(0.5, 1.0, 'Capa Oculta XOR')"
      ]
     },
     "execution_count": 89,
     "metadata": {},
     "output_type": "execute_result"
    },
    {
     "data": {
      "image/png": "[encoded data removed]",
      "text/plain": [
       "<Figure size 432x288 with 1 Axes>"
      ]
     },
     "metadata": {
      "needs_background": "light"
     },
     "output_type": "display_data"
    }
   ],
   "source": [
    "#Graficamos la representación intermedia\n",
    "grafica_ri= sns.scatterplot(capa_ocul_xor[:,0], \n",
    "                            capa_ocul_xor[:,1], \n",
    "                            hue = np.round(y_aprox_xor),\n",
    "                            s = 50)\n",
    "grafica_ri.set_title(\"Capa Oculta XOR\")"
   ]
  },
  {
   "cell_type": "markdown",
   "metadata": {},
   "source": [
    "### Conclusiones:\n",
    "* Como hemos observado en este ejercicio, con una red neuronal de dos capas es posible crear un perceptron multicapa que aproxime la función XOR.\n",
    "* La representación intermedia de la capa oculta muestra un espacio latente en el que las dos clases son linealmente separables, lo cual no era posible con la entrada original (como se muestra en la primera gráfica). Esto permite que el perceptron multicapa pueda asignar el resultado correcto a todas las posibles entradas de la función XOR."
   ]
  },
  {
   "cell_type": "code",
   "execution_count": null,
   "metadata": {},
   "outputs": [],
   "source": []
  }
 ],
 "metadata": {
  "kernelspec": {
   "display_name": "Python 3",
   "language": "python",
   "name": "python3"
  },
  "language_info": {
   "codemirror_mode": {
    "name": "ipython",
    "version": 3
   },
   "file_extension": ".py",
   "mimetype": "text/x-python",
   "name": "python",
   "nbconvert_exporter": "python",
   "pygments_lexer": "ipython3",
   "version": "3.7.7"
  }
 },
 "nbformat": 4,
 "nbformat_minor": 4
}
