{
 "cells": [
  {
   "cell_type": "markdown",
   "metadata": {},
   "source": [
    "###  Autor: Lilian Rebeca Carrera Lemus \n",
    "No. Carnet: 20008077  \n",
    "\n",
    "\n",
    "# Práctica No.4: Back-propagation\n",
    "\n",
    "* Entrenar un aproximador para la función Xor usando 2 capas intermedias.\n",
    "    * Usar 2 neuronas en la capa anterior a la salida(segunda capa oculta)\n",
    "    * Usar al menos 2(pueden ser más) en la  primera capa oculta.\n",
    "    * Usar activación ReLu en las capas intermedias y  no activación en la salida\n",
    "* Usar numpy\n",
    "* Realizar 5 experimentos, en cada experimento(corrida de entrenamiento):\n",
    "    * Inicializar los parámetros aleatoriamente con distribución normal centrada en 0 y std = 0.1\n",
    "    * Retornar la representación intermedia de la segunda capa oculta.\n",
    "*Graficar las 5 representaciones intermedias(1 por experimento), comparar, comentar y/o concluir."
   ]
  },
  {
   "cell_type": "code",
   "execution_count": 1,
   "metadata": {},
   "outputs": [],
   "source": [
    "#Importar librerías necesarias\n",
    "import numpy as np\n",
    "import matplotlib.pyplot as plt\n",
    "import seaborn as sns"
   ]
  },
  {
   "cell_type": "markdown",
   "metadata": {},
   "source": [
    "### Definir Funciones"
   ]
  },
  {
   "cell_type": "code",
   "execution_count": 2,
   "metadata": {},
   "outputs": [],
   "source": [
    "#Definir la función de activación\n",
    "def funcion_relu(x):\n",
    "    return (x * (x > 0))"
   ]
  },
  {
   "cell_type": "code",
   "execution_count": 3,
   "metadata": {},
   "outputs": [],
   "source": [
    "#Definir la derivada de la función de activación solicitada\n",
    "def derivada_relu(x):\n",
    "    return (x > 0)"
   ]
  },
  {
   "cell_type": "code",
   "execution_count": 70,
   "metadata": {},
   "outputs": [],
   "source": [
    "#Definimos una clase con las funciones necesarias para definir, inicializar y entrenar la red\n",
    "class red_neuronal:\n",
    "    def __init__(self, size_capa1):\n",
    "        np.random.seed(1)\n",
    "        #inicializamos la capa\n",
    "        self.inicializar(size_capa1)\n",
    "        #Indicar que los pesos aun no han sido entrenados\n",
    "        self.entrenado = False \n",
    "    \n",
    "    def inicializar(self, size_capa1):\n",
    "        #definimos capa de dos neuronas\n",
    "        pesos_p_capa1 = np.random.normal(loc=0, scale=0.1, size=(2, size_capa1))\n",
    "        #definimos la segunda capa oculta de 2 neuronas\n",
    "        pesos_p_capa2 = np.random.normal(loc= 0, scale= 0.1, size=(size_capa1, 2)) \n",
    "        pesos_p_capaS = np.random.normal(loc= 0, scale= 0.1, size=(2, 1)) \n",
    "        self.pesos = [pesos_p_capa1, pesos_p_capa2, pesos_p_capaS]\n",
    "    \n",
    "    #Definimoos función para entrenar\n",
    "    def entrenar(self, ds, etiquetas, lr, epochs):\n",
    "        if(self.entrenado == True): #Si ya fue entrenado\n",
    "            #reestablecer pesos\n",
    "            self.inicializar(self.pesos[0].shape[1]) \n",
    "            \n",
    "        #iteraciones \n",
    "        for epoch in range(0, epochs):\n",
    "            #Realizamos el Forward propagation\n",
    "            a = ds \n",
    "            #para almacenar los resultados intermedios\n",
    "            capa = [] \n",
    "            capa.append(a)\n",
    "\n",
    "            #Definir ciclo para calcular los valores intermedios de cada capa\n",
    "            for w in self.pesos:\n",
    "                #preactivación\n",
    "                z = np.matmul(a, w) \n",
    "                #activación \n",
    "                a = funcion_relu(z) \n",
    "                capa.append(a)\n",
    "\n",
    "            #Realizamos Backward propagation\n",
    "            #Calculo del error\n",
    "            error = (0.5 * (capa[-1] - etiquetas)**2).mean()\n",
    "\n",
    "            #Calculo de derivadas parciales\n",
    "            #Error entre predicción y salida real\n",
    "            delta_capa3 = capa[-1] - etiquetas \n",
    "            #Propagación del error de la última capa hacía las anteriores\n",
    "            delta_capa2 = np.matmul(delta_capa3, self.pesos[-1].T) * derivada_relu(capa[-2]) \n",
    "            delta_capa1 = np.matmul(delta_capa2, self.pesos[-2].T) * derivada_relu(capa[-3]) \n",
    "\n",
    "            #actualizamos los pesos de la última capa a la primera\n",
    "            self.pesos[-1] -= lr * np.matmul(capa[-2].T, delta_capa3) \n",
    "            self.pesos[-2] -= lr * np.matmul(capa[-3].T, delta_capa2)\n",
    "            self.pesos[-3] -= lr * np.matmul(capa[-4].T, delta_capa1)\n",
    "            \n",
    "            #Imprimir cálculo del error para cada iteración\n",
    "            if(epoch % 10 == 4):\n",
    "                print('No. Iteración ' + str(epoch) + '  Error: ' + str(error))\n",
    "        \n",
    "        #Cambiamos el estado para indicar que ya se entrenó la red\n",
    "        self.entrenado = True\n",
    "    \n",
    "    def predecir(self, x):\n",
    "        #La matriz que se ingresa es de n filas y 2 columnas\n",
    "        a = x\n",
    "        capa2 = []\n",
    "        for i in range(0, len(self.pesos)):\n",
    "            #preactivación \n",
    "            z = np.matmul(a, self.pesos[i]) \n",
    "            #activación \n",
    "            a = funcion_relu(z) \n",
    "            #Si es la segunda capa entonces devolvemos la representación de la segunda capa\n",
    "            if(i == 1): \n",
    "                capa2 = a\n",
    "                \n",
    "        return a, capa2"
   ]
  },
  {
   "cell_type": "markdown",
   "metadata": {},
   "source": [
    "### Experimentos"
   ]
  },
  {
   "cell_type": "code",
   "execution_count": 71,
   "metadata": {},
   "outputs": [],
   "source": [
    "#Definimos la entrada para xor\n",
    "x_xor = np.array([[0,0], \n",
    "                  [0,1], \n",
    "                  [1,0], \n",
    "                  [1,1]])"
   ]
  },
  {
   "cell_type": "code",
   "execution_count": 72,
   "metadata": {},
   "outputs": [],
   "source": [
    "etiquetas_xor = np.array([[0, 1, 1, 0]]).T"
   ]
  },
  {
   "cell_type": "markdown",
   "metadata": {},
   "source": [
    "**Experimento No.1:**"
   ]
  },
  {
   "cell_type": "code",
   "execution_count": 73,
   "metadata": {},
   "outputs": [
    {
     "name": "stdout",
     "output_type": "stream",
     "text": [
      "No. Iteración 4  Error: 0.24983663757863164\n",
      "No. Iteración 14  Error: 0.24962371514444634\n",
      "No. Iteración 24  Error: 0.24909193168182236\n",
      "No. Iteración 34  Error: 0.2472861829998652\n",
      "No. Iteración 44  Error: 0.23737961399918533\n",
      "No. Iteración 54  Error: 0.18125854327283397\n",
      "No. Iteración 64  Error: 0.13246203830808437\n",
      "No. Iteración 74  Error: 0.1250151247424154\n"
     ]
    }
   ],
   "source": [
    "#Realizamos la definición y entrenamiento del primer experimento con un learning rate de 0.2 y 75 epochs\n",
    "exp1 = red_neuronal(2)\n",
    "exp1.entrenar(x_xor, etiquetas_xor, 0.2, 75) "
   ]
  },
  {
   "cell_type": "code",
   "execution_count": 74,
   "metadata": {},
   "outputs": [
    {
     "name": "stdout",
     "output_type": "stream",
     "text": [
      "La salida del XOR aproximada es:  [[0. 0. 1. 0.]]\n",
      "-------------------------------------------------------\n",
      "\n",
      "Los valores de activación de la segunda capa oculta son: \n",
      " [[ 0.          0.        ]\n",
      " [ 0.          0.        ]\n",
      " [ 0.89473176 -0.        ]\n",
      " [ 0.00487812 -0.        ]]\n"
     ]
    }
   ],
   "source": [
    "y_aprox, capa_ocul_xor = exp1.predecir(x_xor)\n",
    "print(\"La salida del XOR aproximada es: \", np.round(y_aprox).reshape(1,-1))\n",
    "print(\"-------------------------------------------------------\\n\")\n",
    "print(\"Los valores de activación de la segunda capa oculta son: \\n\", capa_ocul_xor)"
   ]
  },
  {
   "cell_type": "code",
   "execution_count": 75,
   "metadata": {},
   "outputs": [
    {
     "data": {
      "text/plain": [
       "Text(0.5, 1.0, 'Capa Oculta no.2 XOR')"
      ]
     },
     "execution_count": 75,
     "metadata": {},
     "output_type": "execute_result"
    },
    {
     "data": {
      "image/png": "[encoded data removed]",
      "text/plain": [
       "<Figure size 432x288 with 1 Axes>"
      ]
     },
     "metadata": {
      "needs_background": "light"
     },
     "output_type": "display_data"
    }
   ],
   "source": [
    "#Graficamos la representación intermedia de la segunda capa oculta\n",
    "grafica_ri= sns.scatterplot(capa_ocul_xor[:,0], \n",
    "                            capa_ocul_xor[:,1], \n",
    "                            hue = np.round(y_aprox[:,0]),\n",
    "                            s = 50)\n",
    "grafica_ri.set_title(\"Capa Oculta no.2 XOR\")"
   ]
  },
  {
   "cell_type": "markdown",
   "metadata": {},
   "source": [
    "**Experimento No.2:**"
   ]
  },
  {
   "cell_type": "code",
   "execution_count": 76,
   "metadata": {},
   "outputs": [
    {
     "name": "stdout",
     "output_type": "stream",
     "text": [
      "No. Iteración 4  Error: 0.24977293931286174\n",
      "No. Iteración 14  Error: 0.24873244877678044\n",
      "No. Iteración 24  Error: 0.22959181729439718\n",
      "No. Iteración 34  Error: 0.12739971641786596\n",
      "No. Iteración 44  Error: 0.12500000001952574\n",
      "No. Iteración 54  Error: 0.125\n",
      "No. Iteración 64  Error: 0.125\n",
      "No. Iteración 74  Error: 0.125\n",
      "No. Iteración 84  Error: 0.125\n",
      "No. Iteración 94  Error: 0.125\n"
     ]
    }
   ],
   "source": [
    "#Realizamos la definición y entrenamiento del segundo experimento con un learning rate de 0.4 y 100 epochs\n",
    "exp2 = red_neuronal(2)\n",
    "exp2.entrenar(x_xor, etiquetas_xor, 0.4, 100) "
   ]
  },
  {
   "cell_type": "code",
   "execution_count": 77,
   "metadata": {},
   "outputs": [
    {
     "name": "stdout",
     "output_type": "stream",
     "text": [
      "La salida del XOR aproximada es:  [[0. 0. 1. 0.]]\n",
      "-------------------------------------------------------\n",
      "\n",
      "Los valores de activación de la segunda capa oculta son: \n",
      " [[ 0.         0.       ]\n",
      " [ 0.         0.       ]\n",
      " [ 0.8996309 -0.       ]\n",
      " [ 0.         0.       ]]\n"
     ]
    }
   ],
   "source": [
    "y_aprox, capa_ocul_xor = exp2.predecir(x_xor)\n",
    "print(\"La salida del XOR aproximada es: \", np.round(y_aprox).reshape(1,-1))\n",
    "print(\"-------------------------------------------------------\\n\")\n",
    "print(\"Los valores de activación de la segunda capa oculta son: \\n\", capa_ocul_xor)"
   ]
  },
  {
   "cell_type": "code",
   "execution_count": 78,
   "metadata": {},
   "outputs": [
    {
     "data": {
      "text/plain": [
       "Text(0.5, 1.0, 'Capa Oculta no.2 XOR')"
      ]
     },
     "execution_count": 78,
     "metadata": {},
     "output_type": "execute_result"
    },
    {
     "data": {
      "image/png": "[encoded data removed]",
      "text/plain": [
       "<Figure size 432x288 with 1 Axes>"
      ]
     },
     "metadata": {
      "needs_background": "light"
     },
     "output_type": "display_data"
    }
   ],
   "source": [
    "#Graficamos la representación intermedia de la segunda capa oculta\n",
    "grafica_ri= sns.scatterplot(capa_ocul_xor[:,0], \n",
    "                            capa_ocul_xor[:,1], \n",
    "                            hue = np.round(y_aprox[:,0]),\n",
    "                            s = 75)\n",
    "grafica_ri.set_title(\"Capa Oculta no.2 XOR\")"
   ]
  },
  {
   "cell_type": "markdown",
   "metadata": {},
   "source": [
    "**Experimento No.3:**"
   ]
  },
  {
   "cell_type": "code",
   "execution_count": 79,
   "metadata": {},
   "outputs": [
    {
     "name": "stdout",
     "output_type": "stream",
     "text": [
      "No. Iteración 4  Error: 0.24988105518633186\n",
      "No. Iteración 14  Error: 0.2478517626459687\n",
      "No. Iteración 24  Error: 0.19122228205405717\n",
      "No. Iteración 34  Error: 0.0019975492278509945\n",
      "No. Iteración 44  Error: 2.389766556986302e-07\n"
     ]
    }
   ],
   "source": [
    "#Realizamos la definición y entrenamiento del tercer experimento con un learning rate de 0.4 y 50 epochs\n",
    "#Como vemos que el decrecimiento del error se estancó y que las predicciones no son correctas, agregaremos una neurona más a la primera capa oculta\n",
    "exp3 = red_neuronal(3)\n",
    "exp3.entrenar(x_xor, etiquetas_xor, 0.4, 50) "
   ]
  },
  {
   "cell_type": "code",
   "execution_count": 80,
   "metadata": {},
   "outputs": [
    {
     "name": "stdout",
     "output_type": "stream",
     "text": [
      "La salida del XOR aproximada es:  [[0. 1. 1. 0.]]\n",
      "-------------------------------------------------------\n",
      "\n",
      "Los valores de activación de la segunda capa oculta son: \n",
      " [[ 0.          0.        ]\n",
      " [ 0.69720464 -0.        ]\n",
      " [ 0.69719665 -0.        ]\n",
      " [ 0.          0.        ]]\n"
     ]
    }
   ],
   "source": [
    "y_aprox, capa_ocul_xor = exp3.predecir(x_xor)\n",
    "print(\"La salida del XOR aproximada es: \", np.round(y_aprox).reshape(1,-1))\n",
    "print(\"-------------------------------------------------------\\n\")\n",
    "print(\"Los valores de activación de la segunda capa oculta son: \\n\", capa_ocul_xor)"
   ]
  },
  {
   "cell_type": "code",
   "execution_count": 81,
   "metadata": {},
   "outputs": [
    {
     "data": {
      "text/plain": [
       "Text(0.5, 1.0, 'Capa Oculta no.2 XOR')"
      ]
     },
     "execution_count": 81,
     "metadata": {},
     "output_type": "execute_result"
    },
    {
     "data": {
      "image/png": "[encoded data removed]",
      "text/plain": [
       "<Figure size 432x288 with 1 Axes>"
      ]
     },
     "metadata": {
      "needs_background": "light"
     },
     "output_type": "display_data"
    }
   ],
   "source": [
    "#Graficamos la representación intermedia de la segunda capa oculta\n",
    "grafica_ri= sns.scatterplot(capa_ocul_xor[:,0], \n",
    "                            capa_ocul_xor[:,1], \n",
    "                            hue = np.round(y_aprox[:,0]),\n",
    "                            s = 75)\n",
    "grafica_ri.set_title(\"Capa Oculta no.2 XOR\")"
   ]
  },
  {
   "cell_type": "markdown",
   "metadata": {},
   "source": [
    "**Experimento No.4:**"
   ]
  },
  {
   "cell_type": "code",
   "execution_count": 82,
   "metadata": {},
   "outputs": [
    {
     "name": "stdout",
     "output_type": "stream",
     "text": [
      "No. Iteración 4  Error: 0.24979207323786093\n",
      "No. Iteración 14  Error: 0.2449094736398387\n",
      "No. Iteración 24  Error: 0.04736098739042249\n",
      "No. Iteración 34  Error: 9.222407497209837e-05\n",
      "No. Iteración 44  Error: 0.00012943745469205196\n",
      "No. Iteración 54  Error: 0.00017844860783603985\n",
      "No. Iteración 64  Error: 0.00023843950628996255\n",
      "No. Iteración 74  Error: 0.000306094432817652\n"
     ]
    }
   ],
   "source": [
    "#Realizamos la definición y entrenamiento del tercer experimento con un learning rate de 0.5 y 75 epochs\n",
    "#Con 3 neuronas, ya que el error disminuyó en el experimento anterior\n",
    "exp4 = red_neuronal(3)\n",
    "exp4.entrenar(x_xor, etiquetas_xor, 0.5,75) "
   ]
  },
  {
   "cell_type": "code",
   "execution_count": 83,
   "metadata": {},
   "outputs": [
    {
     "name": "stdout",
     "output_type": "stream",
     "text": [
      "La salida del XOR aproximada es:  [[0. 1. 1. 0.]]\n",
      "-------------------------------------------------------\n",
      "\n",
      "Los valores de activación de la segunda capa oculta son: \n",
      " [[ 0.          0.        ]\n",
      " [ 0.72442694 -0.        ]\n",
      " [ 0.72625564 -0.        ]\n",
      " [ 0.          0.        ]]\n"
     ]
    }
   ],
   "source": [
    "y_aprox, capa_ocul_xor = exp4.predecir(x_xor)\n",
    "print(\"La salida del XOR aproximada es: \", np.round(y_aprox).reshape(1,-1))\n",
    "print(\"-------------------------------------------------------\\n\")\n",
    "print(\"Los valores de activación de la segunda capa oculta son: \\n\", capa_ocul_xor)"
   ]
  },
  {
   "cell_type": "code",
   "execution_count": 84,
   "metadata": {},
   "outputs": [
    {
     "data": {
      "text/plain": [
       "Text(0.5, 1.0, 'Capa Oculta no.2 XOR')"
      ]
     },
     "execution_count": 84,
     "metadata": {},
     "output_type": "execute_result"
    },
    {
     "data": {
      "image/png": "[encoded data removed]",
      "text/plain": [
       "<Figure size 432x288 with 1 Axes>"
      ]
     },
     "metadata": {
      "needs_background": "light"
     },
     "output_type": "display_data"
    }
   ],
   "source": [
    "#Graficamos la representación intermedia de la segunda capa oculta\n",
    "grafica_ri= sns.scatterplot(capa_ocul_xor[:,0], \n",
    "                            capa_ocul_xor[:,1], \n",
    "                            hue = np.round(y_aprox[:,0]),\n",
    "                            s = 75)\n",
    "grafica_ri.set_title(\"Capa Oculta no.2 XOR\")"
   ]
  },
  {
   "cell_type": "markdown",
   "metadata": {},
   "source": [
    "**Experimento No.5:**"
   ]
  },
  {
   "cell_type": "code",
   "execution_count": 85,
   "metadata": {},
   "outputs": [
    {
     "name": "stdout",
     "output_type": "stream",
     "text": [
      "No. Iteración 4  Error: 0.25\n",
      "No. Iteración 14  Error: 0.2499912011137899\n",
      "No. Iteración 24  Error: 0.24995628601268652\n",
      "No. Iteración 34  Error: 0.24982945155445077\n",
      "No. Iteración 44  Error: 0.24711594128356967\n",
      "No. Iteración 54  Error: 0.16153114663190296\n",
      "No. Iteración 64  Error: 0.10097699546765682\n",
      "No. Iteración 74  Error: 0.00019113259836609926\n"
     ]
    }
   ],
   "source": [
    "#Realizamos la definición y entrenamiento del tercer experimento con un learning rate de 0.4 y 75 epochs\n",
    "#Así mismo se agregará una nuerona más en la primera capa oculta\n",
    "exp5 = red_neuronal(4)\n",
    "exp5.entrenar(x_xor, etiquetas_xor, 0.4,75) "
   ]
  },
  {
   "cell_type": "code",
   "execution_count": 86,
   "metadata": {},
   "outputs": [
    {
     "name": "stdout",
     "output_type": "stream",
     "text": [
      "La salida del XOR aproximada es:  [[0. 1. 1. 0.]]\n",
      "-------------------------------------------------------\n",
      "\n",
      "Los valores de activación de la segunda capa oculta son: \n",
      " [[ 0.          0.        ]\n",
      " [ 0.70332676 -0.        ]\n",
      " [ 0.6995799  -0.        ]\n",
      " [ 0.0139132  -0.        ]]\n"
     ]
    }
   ],
   "source": [
    "y_aprox, capa_ocul_xor = exp5.predecir(x_xor)\n",
    "print(\"La salida del XOR aproximada es: \", np.round(y_aprox).reshape(1,-1))\n",
    "print(\"-------------------------------------------------------\\n\")\n",
    "print(\"Los valores de activación de la segunda capa oculta son: \\n\", capa_ocul_xor)"
   ]
  },
  {
   "cell_type": "code",
   "execution_count": 87,
   "metadata": {},
   "outputs": [
    {
     "data": {
      "text/plain": [
       "Text(0.5, 1.0, 'Capa Oculta no.2 XOR')"
      ]
     },
     "execution_count": 87,
     "metadata": {},
     "output_type": "execute_result"
    },
    {
     "data": {
      "image/png": "[encoded data removed]",
      "text/plain": [
       "<Figure size 432x288 with 1 Axes>"
      ]
     },
     "metadata": {
      "needs_background": "light"
     },
     "output_type": "display_data"
    }
   ],
   "source": [
    "#Graficamos la representación intermedia de la segunda capa oculta\n",
    "grafica_ri= sns.scatterplot(capa_ocul_xor[:,0], \n",
    "                            capa_ocul_xor[:,1], \n",
    "                            hue = np.round(y_aprox[:,0]),\n",
    "                            s = 75)\n",
    "grafica_ri.set_title(\"Capa Oculta no.2 XOR\")"
   ]
  },
  {
   "cell_type": "markdown",
   "metadata": {},
   "source": [
    "### Conclusiones"
   ]
  },
  {
   "cell_type": "markdown",
   "metadata": {},
   "source": [
    "* Como se muestra en las gráficas y en las tablas de la matriz de la segunda capa oculta, en todas las representaciones intermedias de esta segunda capa oculta, solamente una de las neuronas parece tener relevancia e incidencia en el resultado final, ya que la segunda neurona siempre es 0. \n",
    "\n",
    "* Así mismo, en las gráficas podemos notar que solamente hay un valor de 0 y 1, y en el último experimento hay 3 valores (2 para 0 y uno para 1), lo cual hace más fácil una separación entre ceros y unos y no como la entrada de etiquetas inicial en donde tenemos 4 valores y no es fácil trazar una línea recta para separar los ceros de los unos.\n",
    "\n",
    "* En los experimentos se puede observar que es necesario agregar más de dos neuronas a primera capa oculta para poder obtener resultados correctos, asi mismo los mejores valores para el learning rate están entre 0.4-0.5 y la cantidad de epochs entre 50-75."
   ]
  },
  {
   "cell_type": "code",
   "execution_count": null,
   "metadata": {},
   "outputs": [],
   "source": []
  }
 ],
 "metadata": {
  "kernelspec": {
   "display_name": "Python 3",
   "language": "python",
   "name": "python3"
  },
  "language_info": {
   "codemirror_mode": {
    "name": "ipython",
    "version": 3
   },
   "file_extension": ".py",
   "mimetype": "text/x-python",
   "name": "python",
   "nbconvert_exporter": "python",
   "pygments_lexer": "ipython3",
   "version": "3.7.7"
  }
 },
 "nbformat": 4,
 "nbformat_minor": 4
}
